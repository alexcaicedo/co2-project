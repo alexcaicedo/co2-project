{
 "cells": [
  {
   "attachments": {},
   "cell_type": "markdown",
   "metadata": {},
   "source": [
    "# **Introduction**\n",
    "\n",
    "Carbon Dioxide (CO<sub>2</sub>) and Greenhouse Gas (GHG) emissions as a result of human activities have been demonstrated to be the primary driver of today's climate change. Supporting evidence of this is the fact that global average temperatures have increased by more than 1 °C since pre-industrual times.\n",
    "\n",
    "A changing climate has a range of potential ecological, physical, and health impacts, including extreme weather events (such as floods, droughts, storms, and heatwaves); sea-level rise; altered crop growth; and disrupted water systems (*5th. Intergovernmental Panel on Climate Change (IPCC) report.*<sup>1</sup>).\n",
    "\n",
    "Therefore, to keep track and monitor the CO<sub>2</sub> and GHG concentrations in the atmosphere, has become a matter of ensuring the all Earth's future life existence.\n",
    "\n",
    "### **Main Objective:** \n",
    "\n",
    "The main purpose of this project is to apply simple Python processing and visualization techniques, and perform Exploratory Data Analysis on a CO<sub>2</sub> emissions data in order to obtain valuable insights on a significant worldwide issue."
   ]
  },
  {
   "attachments": {},
   "cell_type": "markdown",
   "metadata": {},
   "source": [
    "## **About the dataset**\n",
    "\n",
    "This dataset was obtained from a public GitHub repository of [Our World In Data](https://github.com/owid/co2-data), a non-governmental organization (NGO) which aims to provide a wide range of insights and relevant information regarding several world problems.\n",
    "\n",
    "A detailed description of every single feature of the dataset can be read in the \"`data/owid-co2-codebook.xlsx`\" file."
   ]
  },
  {
   "attachments": {},
   "cell_type": "markdown",
   "metadata": {},
   "source": [
    "## **Imports**"
   ]
  },
  {
   "cell_type": "code",
   "execution_count": 1,
   "metadata": {},
   "outputs": [],
   "source": [
    "import pandas as pd\n",
    "import numpy as np\n",
    "import matplotlib.pyplot as plt\n",
    "import seaborn as sns\n",
    "import chart_studio.plotly as py\n",
    "import plotly.express as px\n",
    "import plotly.graph_objects as go\n",
    "import missingno as msno\n",
    "import urllib.request\n",
    "import upsetplot\n",
    "\n",
    "# Mute warnings\n",
    "import warnings\n",
    "warnings.filterwarnings('ignore')\n",
    "\n",
    "# Magic function to display matplotlib figures in a jupyter notebook\n",
    "%matplotlib inline\n",
    "\n",
    "# Making plots pretty\n",
    "sns.set_style(\"darkgrid\")"
   ]
  },
  {
   "attachments": {},
   "cell_type": "markdown",
   "metadata": {},
   "source": [
    "## **Reading the data**"
   ]
  },
  {
   "cell_type": "code",
   "execution_count": 2,
   "metadata": {},
   "outputs": [
    {
     "name": "stdout",
     "output_type": "stream",
     "text": [
      "--2023-01-11 18:32:41--  https://raw.githubusercontent.com/owid/co2-data/master/owid-co2-data.csv\n",
      "Resolving raw.githubusercontent.com (raw.githubusercontent.com)... 185.199.111.133, 185.199.109.133, 185.199.108.133, ...\n",
      "Connecting to raw.githubusercontent.com (raw.githubusercontent.com)|185.199.111.133|:443... connected.\n",
      "Unable to establish SSL connection.\n"
     ]
    }
   ],
   "source": [
    "!wget https://raw.githubusercontent.com/owid/co2-data/master/owid-co2-data.csv -P data/"
   ]
  },
  {
   "cell_type": "code",
   "execution_count": null,
   "metadata": {},
   "outputs": [],
   "source": [
    "# Data set url\n",
    "owid_co2_data_url = \"https://raw.githubusercontent.com/owid/co2-data/master/owid-co2-data.csv\"\n",
    "owid_co2_codebook_url = \"https://raw.githubusercontent.com/owid/co2-data/master/owid-co2-codebook.csv\""
   ]
  },
  {
   "cell_type": "code",
   "execution_count": null,
   "metadata": {},
   "outputs": [],
   "source": [
    "# Downloading data from url into ./data/ directory\n",
    "urllib.request.urlretrieve(\n",
    "    url = owid_co2_data_url,\n",
    "    filename = \"./data/owid-co2-data.csv\"\n",
    ")"
   ]
  },
  {
   "cell_type": "code",
   "execution_count": null,
   "metadata": {},
   "outputs": [],
   "source": [
    "# Downloading codebook from url into ./data/ directory\n",
    "urllib.request.urlretrieve(\n",
    "    url = owid_co2_codebook_url,\n",
    "    filename = \"./data/owid-co2-codebook.csv\"\n",
    ")"
   ]
  },
  {
   "cell_type": "code",
   "execution_count": null,
   "metadata": {},
   "outputs": [],
   "source": [
    "# Converting codebook csv file into excel file and saving it into ./data/ directory\n",
    "codebook_df = pd.read_csv(\"./data/owid-co2-codebook.csv\")\n",
    "codebook_excel = pd.ExcelWriter(\"./data/owid-co2-codebook.xlsx\")\n",
    "codebook_df.to_excel(codebook_excel, index=False)\n",
    "codebook_excel.save()"
   ]
  },
  {
   "cell_type": "code",
   "execution_count": null,
   "metadata": {},
   "outputs": [],
   "source": [
    "# To specify the number of rows and columns to be displayed by pandas\n",
    "pd.options.display.max_rows = 100\n",
    "pd.options.display.max_columns = 100"
   ]
  },
  {
   "cell_type": "code",
   "execution_count": null,
   "metadata": {},
   "outputs": [],
   "source": [
    "# Reading and visualizing the first 5 rows of the CO2 data set\n",
    "data = pd.read_csv(\"./data/owid-co2-data.csv\")\n",
    "\n",
    "data.head()"
   ]
  },
  {
   "cell_type": "code",
   "execution_count": null,
   "metadata": {},
   "outputs": [],
   "source": [
    "data.info()"
   ]
  },
  {
   "attachments": {},
   "cell_type": "markdown",
   "metadata": {},
   "source": [
    "Some data sets can have column names with different formats, such as upper cases, lower cases, spaces, symbols, etc. In this case, the column names have already been standardized, so there's no need to do that."
   ]
  },
  {
   "cell_type": "code",
   "execution_count": null,
   "metadata": {},
   "outputs": [],
   "source": [
    "# Checking which features are different than float type\n",
    "data.dtypes[data.dtypes != \"float64\"]"
   ]
  },
  {
   "attachments": {},
   "cell_type": "markdown",
   "metadata": {},
   "source": [
    "All the columns are float type objects except **`'country'`**, **`'year'`** and **`'iso_code'`** which are differents."
   ]
  },
  {
   "attachments": {},
   "cell_type": "markdown",
   "metadata": {},
   "source": [
    "## **Using Pandas API extension for EDA**"
   ]
  },
  {
   "attachments": {},
   "cell_type": "markdown",
   "metadata": {},
   "source": [
    "### **Missing values analysis**"
   ]
  },
  {
   "cell_type": "code",
   "execution_count": null,
   "metadata": {},
   "outputs": [],
   "source": [
    "co2_df = data.copy()"
   ]
  },
  {
   "cell_type": "code",
   "execution_count": null,
   "metadata": {},
   "outputs": [],
   "source": [
    "%run pd-extensions.ipynb"
   ]
  },
  {
   "cell_type": "code",
   "execution_count": null,
   "metadata": {},
   "outputs": [],
   "source": [
    "# Total number of missing values in the dataset\n",
    "co2_df.explore.number_missing()"
   ]
  },
  {
   "cell_type": "code",
   "execution_count": null,
   "metadata": {},
   "outputs": [],
   "source": [
    "# Total number of complete values (non-missing) in the dataset\n",
    "co2_df.explore.number_complete()"
   ]
  },
  {
   "cell_type": "code",
   "execution_count": null,
   "metadata": {},
   "outputs": [],
   "source": [
    "# Summary table of missing values per variable\n",
    "co2_df.explore.missing_variable_summary()"
   ]
  },
  {
   "cell_type": "code",
   "execution_count": null,
   "metadata": {},
   "outputs": [],
   "source": [
    "# Visualizing the proportion of missing values per variable\n",
    "co2_df.explore.missing_variable_plot()"
   ]
  },
  {
   "cell_type": "code",
   "execution_count": null,
   "metadata": {},
   "outputs": [],
   "source": [
    "co2_df.explore.missing_variable_plot_matrix()"
   ]
  },
  {
   "attachments": {},
   "cell_type": "markdown",
   "metadata": {},
   "source": [
    "There are many columns practically empty. Hence, for the purposes of this project, some columns will be deleted."
   ]
  },
  {
   "cell_type": "code",
   "execution_count": null,
   "metadata": {},
   "outputs": [],
   "source": [
    "columns_to_delete = [\n",
    "    'co2_including_luc', 'co2_including_luc_growth_abs',\n",
    "    'co2_including_luc_growth_prct', 'co2_including_luc_per_capita',\n",
    "    'co2_including_luc_per_gdp', 'co2_including_luc_per_unit_energy',\n",
    "    'consumption_co2',\n",
    "    'consumption_co2_per_capita',\n",
    "    'consumption_co2_per_gdp',\n",
    "    'cumulative_co2_including_luc',\n",
    "    'cumulative_luc_co2',\n",
    "    'flaring_co2',\n",
    "    'flaring_co2_per_capita',\n",
    "    'ghg_excluding_lucf_per_capita',\n",
    "    'ghg_per_capita',\n",
    "    'methane',\n",
    "    'methane_per_capita',\n",
    "    'nitrous_oxide',\n",
    "    'nitrous_oxide_per_capita',\n",
    "    'land_use_change_co2',\n",
    "    'land_use_change_co2_per_capita',\n",
    "    'share_global_co2_including_luc',\n",
    "    'share_global_cumulative_co2_including_luc',\n",
    "    'share_global_cumulative_flaring_co2',\n",
    "    'share_global_cumulative_luc_co2',\n",
    "    'share_global_luc_co2',\n",
    "    'total_ghg',\n",
    "    'total_ghg_excluding_lucf',\n",
    "    'trade_co2',\n",
    "    'trade_co2_share'\n",
    "]\n",
    "\n",
    "co2_df.drop(\n",
    "    columns = columns_to_delete,\n",
    "    axis = 1,\n",
    "    inplace = True\n",
    ")"
   ]
  },
  {
   "cell_type": "markdown",
   "metadata": {},
   "source": [
    "# **Data Pre-processing**"
   ]
  },
  {
   "cell_type": "markdown",
   "metadata": {},
   "source": [
    "### **Year column**"
   ]
  },
  {
   "cell_type": "code",
   "execution_count": null,
   "metadata": {},
   "outputs": [],
   "source": [
    "# Checking minimum and maximum year\n",
    "print(\"min year:\", co2_df[\"year\"].min())\n",
    "print(\"max year:\", co2_df[\"year\"].max())"
   ]
  },
  {
   "cell_type": "code",
   "execution_count": null,
   "metadata": {},
   "outputs": [],
   "source": [
    "# Checking missing values in the year column\n",
    "co2_df[\"year\"].isnull().sum()"
   ]
  },
  {
   "cell_type": "markdown",
   "metadata": {},
   "source": [
    "No missing values in the year column."
   ]
  },
  {
   "cell_type": "markdown",
   "metadata": {},
   "source": [
    "### **ISO code column**"
   ]
  },
  {
   "cell_type": "code",
   "execution_count": null,
   "metadata": {},
   "outputs": [],
   "source": [
    "# Checking countries without an ISO code\n",
    "co2_df[co2_df[\"iso_code\"].isnull()][\"country\"].unique()"
   ]
  },
  {
   "cell_type": "code",
   "execution_count": null,
   "metadata": {},
   "outputs": [],
   "source": [
    "countries_to_delete = [\n",
    "    'French Equatorial Africa',\n",
    "    'French West Africa',\n",
    "    'Kosovo',\n",
    "    'Kuwaiti Oil Fires',\n",
    "    'Leeward Islands',\n",
    "    'Panama Canal Zone',\n",
    "    'Ryukyu Islands',\n",
    "    'St. Kitts-Nevis-Anguilla',\n",
    "    'Bonaire Sint Eustatius and Saba',\n",
    "    'Christmas Island',\n",
    "    'Sint Maarten (Dutch part)',\n",
    "    'Europe (excl. EU-27)',\n",
    "    'Europe (excl. EU-28)',\n",
    "    'International transport'\n",
    "]\n",
    "\n",
    "# Checking the amount of CO2 emitted for each country without a designated ISO code.\n",
    "for country in countries_to_delete:\n",
    "    co2 = co2_df[\n",
    "        (co2_df[\"country\"] == country) & ~(co2_df[\"co2\"].isnull())\n",
    "    ][\"co2\"].sum()\n",
    "    print(f\"CO2 Emssions: {country} = {np.round(co2, 3)}\")"
   ]
  },
  {
   "attachments": {},
   "cell_type": "markdown",
   "metadata": {},
   "source": [
    "These countries have a small amount of CO2 emissions observations to be considered as relevant for the purposes of this project. Therefore, their entries will be deleted for simplification."
   ]
  },
  {
   "cell_type": "code",
   "execution_count": null,
   "metadata": {},
   "outputs": [],
   "source": [
    "# Dropping the countries\n",
    "for country in countries_to_delete:\n",
    "    value = df[\n",
    "        df[\"country\"] == country\n",
    "    ].index\n",
    "    \n",
    "    df.drop(\n",
    "        labels = value,\n",
    "        axis = 0,\n",
    "        inplace = True\n",
    "    )"
   ]
  },
  {
   "cell_type": "code",
   "execution_count": null,
   "metadata": {},
   "outputs": [],
   "source": [
    "# Verifying the countries were dropped\n",
    "df[df[\"iso_code\"].isnull()][\"country\"].unique()"
   ]
  },
  {
   "attachments": {},
   "cell_type": "markdown",
   "metadata": {},
   "source": [
    "This way, the project will only consider the non-iso code \"countries\" observations such as the continents', the \"World\", and those corresponding to the income classification."
   ]
  },
  {
   "attachments": {},
   "cell_type": "markdown",
   "metadata": {},
   "source": [
    "### **CO2 Emissions column**"
   ]
  },
  {
   "cell_type": "code",
   "execution_count": null,
   "metadata": {},
   "outputs": [],
   "source": [
    "# Dropping NaN's in co2 column\n",
    "df.drop(\n",
    "    labels = df[df[\"co2\"].isnull()].index,\n",
    "    axis = 0,\n",
    "    inplace = True\n",
    ")\n",
    "\n",
    "# Dropping NaN's in co2_per_capita column\n",
    "df.drop(\n",
    "    labels = df[df[\"co2_per_capita\"].isnull()].index,\n",
    "    axis = 0,\n",
    "    inplace = True\n",
    ")"
   ]
  },
  {
   "cell_type": "code",
   "execution_count": null,
   "metadata": {},
   "outputs": [],
   "source": [
    "msno.matrix(\n",
    "    df,\n",
    "    color = (0.3, 0.36, 0.44)\n",
    ")"
   ]
  },
  {
   "attachments": {},
   "cell_type": "markdown",
   "metadata": {},
   "source": [
    "### **GDP column**"
   ]
  },
  {
   "cell_type": "code",
   "execution_count": null,
   "metadata": {},
   "outputs": [],
   "source": [
    "# Filling GDP missing values for countries with co2 and co2_per_gdp entries.\n",
    "df[\"gdp\"].fillna(\n",
    "    df[\"co2\"] / df[\"co2_per_gdp\"],\n",
    "    inplace = True\n",
    ")"
   ]
  },
  {
   "cell_type": "code",
   "execution_count": null,
   "metadata": {},
   "outputs": [],
   "source": [
    "df.groupby([\"country\"], as_index=False)[\"gdp\"].apply(lambda x: x.isnull().sum())"
   ]
  },
  {
   "cell_type": "markdown",
   "metadata": {},
   "source": [
    "# **Exploratory Data Analysis**"
   ]
  },
  {
   "cell_type": "markdown",
   "metadata": {},
   "source": [
    "### **1. Yearly world CO2 emissions.**"
   ]
  },
  {
   "cell_type": "code",
   "execution_count": null,
   "metadata": {},
   "outputs": [],
   "source": [
    "world_emissions = df[df[\"country\"] == \"World\"][[\"year\", \"co2\"]]"
   ]
  },
  {
   "cell_type": "code",
   "execution_count": null,
   "metadata": {},
   "outputs": [],
   "source": [
    "fig = go.Figure()\n",
    "\n",
    "fig.add_trace(\n",
    "    go.Scatter(\n",
    "    x = world_emissions[\"year\"],\n",
    "    y = world_emissions[\"co2\"]\n",
    "    )\n",
    ")\n",
    "\n",
    "fig.update_layout(\n",
    "    title = \"Yearly global CO2 emissions\",\n",
    "    xaxis_title = \"Year\",\n",
    "    yaxis_title = \"CO2 Emissions [Million metric-tons]\"\n",
    ")\n",
    "\n",
    "# fig = px.line(world_emissions, x=\"year\", y=\"co2\", labels={\"x\": \"Year\", \"y\": \"CO2 Emissions [1e6 metric-tons]\"}, title=\"Yearly global CO2 emissions\")\n",
    "fig.show()"
   ]
  },
  {
   "cell_type": "markdown",
   "metadata": {},
   "source": [
    "### **2. CO2 emissions by continent.**"
   ]
  },
  {
   "cell_type": "code",
   "execution_count": null,
   "metadata": {},
   "outputs": [],
   "source": [
    "emissions_by_continent = df[\n",
    "    (df[\"country\"] == \"North America\") |\n",
    "    (df[\"country\"] == \"North America (excl. USA)\") |\n",
    "    (df[\"country\"] == \"South America\") |\n",
    "    (df[\"country\"] == \"Africa\") |\n",
    "    (df[\"country\"] == \"Europe\") | \n",
    "    (df[\"country\"] == \"Asia\") |\n",
    "    (df[\"country\"] == \"Asia (excl. China & India)\") |\n",
    "    (df[\"country\"] == \"Oceania\")\n",
    "][\n",
    "    df[\"year\"] == 2020\n",
    "][\n",
    "    [\"country\", \"co2\"]\n",
    "].sort_values(\n",
    "    by = \"co2\",\n",
    "    ascending = False\n",
    ")\n",
    "\n",
    "fig, axes = plt.subplots(\n",
    "    nrows = 1,\n",
    "    ncols = 2,\n",
    "    figsize = (12, 6)\n",
    ")\n",
    "\n",
    "sns.barplot(\n",
    "    emissions_by_continent,\n",
    "    x = emissions_by_continent[\"country\"],\n",
    "    y = emissions_by_continent[\"co2\"],\n",
    "    ax = axes[0]\n",
    ")\n",
    "\n",
    "axes[0].set_xlabel(\n",
    "    \"Country\",\n",
    "    fontweight = \"bold\"\n",
    ")\n",
    "\n",
    "axes[0].set_xticklabels(\n",
    "    labels = emissions_by_continent[\"country\"],\n",
    "    rotation = 90\n",
    ")\n",
    "\n",
    "axes[0].set_ylabel(\n",
    "    \"CO2 Emissions [1e6 metric-tons]\",\n",
    "    fontweight = \"bold\"\n",
    ")\n",
    "\n",
    "plt.pie(\n",
    "    emissions_by_continent[\"co2\"],\n",
    "    labels = emissions_by_continent[\"country\"],\n",
    "    autopct = '%.0f%%',\n",
    "    explode = (0.05, 0.0, 0.0, 0.0, 0.0, 0.0, 0.0, 0.0)\n",
    ")\n",
    "\n",
    "fig.suptitle(\n",
    "    'CO2 Emissions per continent [2020]',\n",
    "    fontsize = 20,\n",
    "    fontweight = \"bold\"\n",
    ")\n",
    "\n",
    "plt.tight_layout()\n",
    "plt.show()"
   ]
  },
  {
   "cell_type": "markdown",
   "metadata": {},
   "source": [
    "### **2. Yearly CO2 emissions by continent.**"
   ]
  },
  {
   "cell_type": "code",
   "execution_count": null,
   "metadata": {},
   "outputs": [],
   "source": [
    "continent_yearly_emissions = df[\n",
    "    (df[\"country\"] == \"North America\") |\n",
    "    (df[\"country\"] == \"North America (excl. USA)\") |\n",
    "    (df[\"country\"] == \"South America\") |\n",
    "    (df[\"country\"] == \"Africa\") |\n",
    "    (df[\"country\"] == \"Europe\") | \n",
    "    (df[\"country\"] == \"Asia\") |\n",
    "    (df[\"country\"] == \"Asia (excl. China & India)\") |\n",
    "    (df[\"country\"] == \"Oceania\")\n",
    "][\n",
    "    [\"country\", \"year\", \"co2\"]\n",
    "]\n",
    "\n",
    "sns.lineplot(\n",
    "    data = continent_yearly_emissions,\n",
    "    x = continent_yearly_emissions[\"year\"],\n",
    "    y = continent_yearly_emissions[\"co2\"],\n",
    "    hue = continent_yearly_emissions[\"country\"]\n",
    ")\n",
    "\n",
    "plt.title(\n",
    "    \"Continent's Yearly CO2 emissions\",\n",
    "    fontweight = \"bold\",\n",
    "    fontsize = 16\n",
    ")\n",
    "\n",
    "plt.xlabel(\"Year\", weight = \"bold\")\n",
    "plt.ylabel(\"CO2 Emissions [1e6 metric-tons]\", weight = \"bold\")\n",
    "\n",
    "plt.legend(bbox_to_anchor = (1.05, 1))\n",
    "\n",
    "plt.show()"
   ]
  },
  {
   "cell_type": "markdown",
   "metadata": {},
   "source": [
    "### **3. Top 10 countries with most CO2 emissions in 2020.**"
   ]
  },
  {
   "cell_type": "code",
   "execution_count": null,
   "metadata": {},
   "outputs": [],
   "source": [
    "df_2 = df.copy()\n",
    "\n",
    "# Removing non-iso countries\n",
    "non_iso_countries = list(df_2[df_2[\"iso_code\"].isnull()][\"country\"].unique())\n",
    "for country in non_iso_countries:\n",
    "    value = df_2[df_2[\"country\"] == country].index\n",
    "    df_2.drop(labels=value, axis=0, inplace=True)"
   ]
  },
  {
   "cell_type": "code",
   "execution_count": null,
   "metadata": {},
   "outputs": [],
   "source": [
    "top_10_co2 = df_2[df_2[\"year\"] == 2020][[\"country\", \"iso_code\", \"co2\"]].sort_values(by=\"co2\", ascending=False).head(10)\n",
    "fig, axes = plt.subplots(1, 2, figsize=(12, 6))\n",
    "sns.barplot(top_10_co2, x=top_10_co2[\"country\"], y=top_10_co2[\"co2\"], ax=axes[0])\n",
    "axes[0].set_xlabel(\"Country\", fontweight=\"bold\")\n",
    "axes[0].set_xticklabels(labels=top_10_co2[\"country\"], rotation=90)\n",
    "axes[0].set_ylabel(\"CO2 Emissions [1e6 metric-tons]\", fontweight=\"bold\")\n",
    "plt.pie(top_10_co2[\"co2\"], labels=top_10_co2[\"iso_code\"], autopct='%.0f%%', explode=(0.05, 0.0, 0.0, 0.0, 0.0, 0.0, 0.0, 0.0, 0.0, 0.0))\n",
    "plt.legend(top_10_co2[\"country\"], bbox_to_anchor=(1.05, 1))\n",
    "fig.suptitle('Top 10 Countries With Most CO2 Emissions [2020]', fontsize=20, fontweight=\"bold\")\n",
    "plt.tight_layout()\n",
    "plt.show()"
   ]
  },
  {
   "cell_type": "markdown",
   "metadata": {},
   "source": [
    "### **3. Top 10 countries with most CO2 emissions per capita in 2020.**"
   ]
  },
  {
   "cell_type": "code",
   "execution_count": null,
   "metadata": {},
   "outputs": [],
   "source": [
    "top_10_per_capita = df_2[df_2[\"year\"] == 2020][[\"country\", \"co2_per_capita\"]].sort_values(by=\"co2_per_capita\", ascending=False).head(10)\n",
    "fig, axes = plt.subplots(1, 2, figsize=(12, 6))\n",
    "sns.barplot(top_10_per_capita, x=top_10_per_capita[\"country\"], y=top_10_per_capita[\"co2_per_capita\"], ax=axes[0])\n",
    "axes[0].set_xlabel(\"Country\", fontweight=\"bold\")\n",
    "axes[0].set_xticklabels(labels=top_10_per_capita[\"country\"], rotation=90)\n",
    "axes[0].set_ylabel(\"CO2 Emissions per capita [1e6 metric-tons]\", fontweight=\"bold\")\n",
    "plt.pie(top_10_per_capita[\"co2_per_capita\"], labels=top_10_per_capita[\"country\"], autopct='%.0f%%', explode=(0.05, 0.0, 0.0, 0.0, 0.0, 0.0, 0.0, 0.0, 0.0, 0.0))\n",
    "fig.suptitle('Top 10 Countries With Most CO2 Emissions per capita [2020]', fontsize=20, fontweight=\"bold\")\n",
    "plt.tight_layout()\n",
    "plt.show()"
   ]
  },
  {
   "cell_type": "markdown",
   "metadata": {},
   "source": [
    "### **4. Top 10 countries by Gross Domestic Product (GDP)**"
   ]
  },
  {
   "cell_type": "code",
   "execution_count": null,
   "metadata": {},
   "outputs": [],
   "source": [
    "top_10_gdp = df_2[df_2[\"year\"] == 2018][[\"country\", \"iso_code\", \"gdp\"]].sort_values(by=\"gdp\", ascending=False).head(10)\n",
    "# GDP data has only been recorded until 2018\n",
    "\n",
    "fig, axes = plt.subplots(1, 2, figsize=(12, 6))\n",
    "sns.barplot(top_10_gdp, x=top_10_gdp[\"country\"], y=top_10_gdp[\"gdp\"], ax=axes[0])\n",
    "axes[0].set_xlabel(\"Country\", fontweight=\"bold\")\n",
    "axes[0].set_xticklabels(labels=top_10_gdp[\"country\"], rotation=90)\n",
    "axes[0].set_ylabel(\"GDP [Trillion USD]\", fontweight=\"bold\")\n",
    "plt.pie(top_10_gdp[\"gdp\"], labels=top_10_gdp[\"iso_code\"], autopct='%.0f%%', explode=(0.05, 0.0, 0.0, 0.0, 0.0, 0.0, 0.0, 0.0, 0.0, 0.0))\n",
    "plt.legend(top_10_gdp[\"country\"], bbox_to_anchor=(1.05, 1))\n",
    "fig.suptitle('Top 10 countries by GDP [2018]', fontsize=20, fontweight=\"bold\")\n",
    "plt.tight_layout()\n",
    "plt.show()"
   ]
  },
  {
   "cell_type": "markdown",
   "metadata": {},
   "source": [
    "### **5. Top 10 richest countries yearly CO2 emissions**"
   ]
  },
  {
   "cell_type": "code",
   "execution_count": null,
   "metadata": {},
   "outputs": [],
   "source": [
    "top_10_co2_growth = df[df[\"country\"].isin(list(top_10_gdp[\"country\"]))][[\"country\", \"year\", \"iso_code\", \"gdp\", \"co2\", \"co2_growth_prct\"]].sort_values(by=\"co2\", ascending=False)\n",
    "\n",
    "plt.figure(figsize=(10, 6))\n",
    "sns.lineplot(data=top_10_co2_growth, x=top_10_co2_growth[\"year\"], y=top_10_co2_growth[\"co2\"], hue=top_10_co2_growth[\"country\"])\n",
    "plt.title(\"Yearly CO2 emissions [Top 10 richest countries]\", fontweight=\"bold\", fontsize=16)\n",
    "plt.xlabel(\"Year\", weight=\"bold\")\n",
    "plt.ylabel(\"CO2 Emissions per capita [1e6 metric-tons]\", weight=\"bold\")\n",
    "plt.legend()\n",
    "plt.show()"
   ]
  },
  {
   "cell_type": "markdown",
   "metadata": {},
   "source": [
    "### **5. Top 10 most energy consuming countries.**"
   ]
  },
  {
   "cell_type": "code",
   "execution_count": null,
   "metadata": {},
   "outputs": [],
   "source": [
    "top_10_energy = df_2[df_2[\"year\"] == 2020][[\"country\", \"iso_code\", \"primary_energy_consumption\"]].sort_values(by=\"primary_energy_consumption\", ascending=False).head(10)\n",
    "fig, axes = plt.subplots(1, 2, figsize=(12, 6))\n",
    "sns.barplot(top_10_energy, x=top_10_energy[\"country\"], y=top_10_energy[\"primary_energy_consumption\"], ax=axes[0])\n",
    "axes[0].set_xlabel(\"Country\", fontweight=\"bold\")\n",
    "axes[0].set_xticklabels(labels=top_10_energy[\"country\"], rotation=90)\n",
    "axes[0].set_ylabel(\"Primary Energy Consumption [TWh/yr]\", fontweight=\"bold\")\n",
    "plt.pie(top_10_energy[\"primary_energy_consumption\"], labels=top_10_energy[\"iso_code\"], autopct='%.0f%%', explode=(0.05, 0.0, 0.0, 0.0, 0.0, 0.0, 0.0, 0.0, 0.0, 0.0))\n",
    "plt.legend(top_10_energy[\"country\"], bbox_to_anchor=(1.05, 1))\n",
    "fig.suptitle('Top 10 Most Energy Consumers [2020]', fontsize=20, fontweight=\"bold\")\n",
    "plt.tight_layout()\n",
    "plt.show()"
   ]
  },
  {
   "attachments": {},
   "cell_type": "markdown",
   "metadata": {},
   "source": [
    "### **6. Top 10 most energy consuming countries per capita.**"
   ]
  },
  {
   "cell_type": "code",
   "execution_count": null,
   "metadata": {},
   "outputs": [],
   "source": [
    "['country', 'year', 'iso_code', 'population', 'gdp', 'cement_co2',\n",
    "       'cement_co2_per_capita', 'co2', 'co2_growth_abs', 'co2_growth_prct',\n",
    "       'co2_per_capita', 'co2_per_gdp', 'co2_per_unit_energy', 'coal_co2',\n",
    "       'coal_co2_per_capita', 'cumulative_cement_co2', 'cumulative_co2',\n",
    "       'cumulative_coal_co2', 'cumulative_flaring_co2', 'cumulative_gas_co2',\n",
    "       'cumulative_oil_co2', 'cumulative_other_co2', 'energy_per_capita',\n",
    "       'energy_per_gdp', 'gas_co2', 'gas_co2_per_capita', 'oil_co2',\n",
    "       'oil_co2_per_capita', 'other_co2_per_capita', 'other_industry_co2',\n",
    "       'primary_energy_consumption', 'share_global_cement_co2',\n",
    "       'share_global_co2', 'share_global_coal_co2',\n",
    "       'share_global_cumulative_cement_co2', 'share_global_cumulative_co2',\n",
    "       'share_global_cumulative_coal_co2', 'share_global_cumulative_gas_co2',\n",
    "       'share_global_cumulative_oil_co2', 'share_global_cumulative_other_co2',\n",
    "       'share_global_flaring_co2', 'share_global_gas_co2',\n",
    "       'share_global_oil_co2', 'share_global_other_co2']"
   ]
  },
  {
   "cell_type": "code",
   "execution_count": null,
   "metadata": {},
   "outputs": [],
   "source": [
    "emissions_per_activity = data[(data[\"country\"] == \"World\") & (data[\"year\"] == 2020)][[\"cement_co2\", \"coal_co2\", \"flaring_co2\", \"gas_co2\", \"oil_co2\"]]\n",
    "emissions_per_activity.reset_index(inplace=True)\n",
    "emissions_per_activity.drop(columns=\"index\", inplace=True)\n",
    "emissions_per_activity = emissions_per_activity.T\n",
    "emissions_per_activity\n",
    "# sns.barplot(emissions_per_activity)\n",
    "#plt.pie(top_10_energy[\"primary_energy_consumption\"], labels=top_10_energy[\"iso_code\"], autopct='%.0f%%', explode=(0.05, 0.0, 0.0, 0.0, 0.0, 0.0, 0.0, 0.0, 0.0, 0.0))\n",
    "# plt.pie(emissions_per_activity.index, labels=emissions_per_activity.values)\n",
    "# plt.legend(top_10_energy[\"country\"], bbox_to_anchor=(1.05, 1))"
   ]
  },
  {
   "cell_type": "code",
   "execution_count": null,
   "metadata": {},
   "outputs": [],
   "source": [
    "plt.pie(top_10_energy[\"primary_energy_consumption\"], labels=top_10_energy[\"iso_code\"], autopct='%.0f%%', explode=(0.05, 0.0, 0.0, 0.0, 0.0, 0.0, 0.0, 0.0, 0.0, 0.0))\n",
    "plt.legend(top_10_energy[\"country\"], bbox_to_anchor=(1.05, 1))"
   ]
  },
  {
   "cell_type": "code",
   "execution_count": null,
   "metadata": {},
   "outputs": [],
   "source": []
  },
  {
   "cell_type": "code",
   "execution_count": null,
   "metadata": {},
   "outputs": [],
   "source": []
  },
  {
   "cell_type": "code",
   "execution_count": null,
   "metadata": {},
   "outputs": [],
   "source": []
  },
  {
   "cell_type": "code",
   "execution_count": null,
   "metadata": {},
   "outputs": [],
   "source": []
  },
  {
   "cell_type": "code",
   "execution_count": null,
   "metadata": {},
   "outputs": [],
   "source": []
  },
  {
   "cell_type": "code",
   "execution_count": null,
   "metadata": {},
   "outputs": [],
   "source": []
  },
  {
   "attachments": {},
   "cell_type": "markdown",
   "metadata": {},
   "source": [
    "# **References**\n",
    "\n",
    "1. 2014: Climate Change 2014: Impacts, Adaptation, and Vulnerability. Part A: Global and Sectoral Aspects. Contribution of Working Group II to the Fifth Assessment Report of the Intergovernmental Panel on Climate Change\n",
    "[Field, C.B., V.R. Barros, D.J. Dokken, K.J. Mach, M.D. Mastrandrea, T.E. Bilir, M. Chatterjee, K.L. Ebi, Y.O. Estrada, R.C. Genova, B. Girma, E.S. Kissel, A.N. Levy, S. MacCracken, P.R. Mastrandrea, and L.L.White (eds.)]. Cambridge University Press, Cambridge, United Kingdom and New York, NY, USA, 1132 pp. Available: [Online](https://www.ipcc.ch/report/ar5/wg2/)\n",
    "\n",
    "2. "
   ]
  }
 ],
 "metadata": {
  "kernelspec": {
   "display_name": "Python 3.9.13 ('co2-venv': conda)",
   "language": "python",
   "name": "python3"
  },
  "language_info": {
   "codemirror_mode": {
    "name": "ipython",
    "version": 3
   },
   "file_extension": ".py",
   "mimetype": "text/x-python",
   "name": "python",
   "nbconvert_exporter": "python",
   "pygments_lexer": "ipython3",
   "version": "3.9.13"
  },
  "orig_nbformat": 4,
  "vscode": {
   "interpreter": {
    "hash": "1deb68f7abed2498be121ae72d9a542ad1482a85505e05a39d2f50e38be4a775"
   }
  }
 },
 "nbformat": 4,
 "nbformat_minor": 2
}
